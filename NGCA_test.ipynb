{
 "cells": [
  {
   "cell_type": "code",
   "execution_count": 20,
   "metadata": {},
   "outputs": [],
   "source": [
    "import numpy as np\n",
    "import ngca_theoretical\n",
    "import math"
   ]
  },
  {
   "cell_type": "markdown",
   "metadata": {},
   "source": [
    "# Whitening\n",
    "\n",
    "The goal of whitening is for the dataset to have zero mean, and identity covariance matrix. Let's first see if the existing whitening in the code gives that. Below we apply the whitening, and test the mean. If it is far away from zero, then there is a problem with the whitening."
   ]
  },
  {
   "cell_type": "code",
   "execution_count": 8,
   "metadata": {},
   "outputs": [
    {
     "data": {
      "text/plain": [
       "array([ 0.95129933,  0.03302555,  0.06998988, -0.11573042, -0.01852112,\n",
       "       -0.07883736,  0.10519115, -0.00388839, -0.12351241,  0.0446299 ,\n",
       "        0.06660781, -0.04885695])"
      ]
     },
     "execution_count": 8,
     "metadata": {},
     "output_type": "execute_result"
    }
   ],
   "source": [
    "X = np.loadtxt(fname = \"3PhData/DataTst.txt\")\n",
    "X_w = ngca_theoretical.whiten(X)\n",
    "np.mean(X_w, axis=0)"
   ]
  },
  {
   "cell_type": "markdown",
   "metadata": {},
   "source": [
    "Obviously there is a problem with the whitening. Let's try to define a correct whitening. "
   ]
  },
  {
   "cell_type": "code",
   "execution_count": 23,
   "metadata": {},
   "outputs": [],
   "source": [
    "def center(X):\n",
    "    c = np.mean(X, axis = 0)\n",
    "    Xw = X - c\n",
    "    return Xw, c\n",
    "\n",
    "def whiten(X):\n",
    "    X_c, c = center(X)\n",
    "    U, s, VT = np.linalg.svd(X_c, full_matrices=False)\n",
    "    W = VT.T * (math.sqrt(X.shape[0]) / s) \n",
    "    X_w = U * math.sqrt(X.shape[0]) \n",
    "    return X_w, c, W\n",
    "\n",
    "X_w, c, W = whiten(X)"
   ]
  },
  {
   "cell_type": "markdown",
   "metadata": {},
   "source": [
    "Notice that the whitening procedure also returns the centering shift, and the transformation $W$ that made the covariance $I_n$. \n",
    "\n",
    "After the whitenning we should have:\n",
    "- The whitenned data $X_W$ should have zero mean, and identity covariance.\n",
    "- X_w  should be equal to applying W to the right after on X after centering (i.e. $X_w = (X - c)W$).\n",
    "\n",
    "\n",
    "Let's test these."
   ]
  },
  {
   "cell_type": "code",
   "execution_count": 31,
   "metadata": {},
   "outputs": [
    {
     "data": {
      "text/plain": [
       "(array([ 2.39808173e-17,  1.78247694e-15, -7.57616192e-16, -5.43565193e-16,\n",
       "         5.73596726e-16, -1.17195142e-15, -1.45927714e-15, -4.06785716e-16,\n",
       "         7.03437308e-16,  5.55688828e-15,  4.83790785e-15, -8.52651283e-17]),\n",
       " 2.9550030233451926e-15,\n",
       " 1.981134203648259e-13)"
      ]
     },
     "execution_count": 31,
     "metadata": {},
     "output_type": "execute_result"
    }
   ],
   "source": [
    "np.mean(X_w, axis=0), np.linalg.norm(X_w.T @ X_w / X_w.shape[0] - np.eye(12)), np.linalg.norm(X_w - (X - c) @ W)"
   ]
  },
  {
   "cell_type": "markdown",
   "metadata": {},
   "source": [
    "# NGCA algorithm\n",
    "\n",
    "Now that we whitenned the data, let's apply the NGCA algorithm."
   ]
  },
  {
   "cell_type": "code",
   "execution_count": 32,
   "metadata": {},
   "outputs": [],
   "source": [
    "params = {'alpha1': 0.6754445940381727, 'alpha2': 0.29744739800298886, \n",
    "          'beta1': 0.3403472323546272, 'beta2': 0.6441926407645018}\n",
    "X1 = X[:500]\n",
    "X2 = X[500:]\n",
    "approx_NG_subspace = ngca_theoretical.run_ngca_algorithm(X1, X2,\n",
    "                                                         params['alpha1'], params['alpha2'], \n",
    "                                                         params['beta1'], params['beta2'])"
   ]
  },
  {
   "cell_type": "markdown",
   "metadata": {},
   "source": [
    "**The subspace should be a subspace of $\\mathbb{R}^{12}$, so how can the basis below be 500-by-4???**"
   ]
  },
  {
   "cell_type": "code",
   "execution_count": 34,
   "metadata": {},
   "outputs": [
    {
     "data": {
      "text/plain": [
       "(500, 4)"
      ]
     },
     "execution_count": 34,
     "metadata": {},
     "output_type": "execute_result"
    }
   ],
   "source": [
    "approx_NG_subspace.shape"
   ]
  },
  {
   "cell_type": "markdown",
   "metadata": {},
   "source": [
    "**The problem seems to be in computing the Phi and Psi matrices. They should be 12-by-12, not 500-by-500**."
   ]
  },
  {
   "cell_type": "code",
   "execution_count": 36,
   "metadata": {},
   "outputs": [
    {
     "data": {
      "text/plain": [
       "(500, 500)"
      ]
     },
     "execution_count": 36,
     "metadata": {},
     "output_type": "execute_result"
    }
   ],
   "source": [
    "matrix_phi = ngca_theoretical.compute_matrix_phi(X1, X2, params['alpha1'])\n",
    "matrix_phi.shape"
   ]
  }
 ],
 "metadata": {
  "kernelspec": {
   "display_name": "Python 3",
   "language": "python",
   "name": "python3"
  },
  "language_info": {
   "codemirror_mode": {
    "name": "ipython",
    "version": 3
   },
   "file_extension": ".py",
   "mimetype": "text/x-python",
   "name": "python",
   "nbconvert_exporter": "python",
   "pygments_lexer": "ipython3",
   "version": "3.6.8"
  }
 },
 "nbformat": 4,
 "nbformat_minor": 2
}
